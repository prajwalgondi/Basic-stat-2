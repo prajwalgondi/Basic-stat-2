{
 "cells": [
  {
   "cell_type": "code",
   "execution_count": null,
   "id": "cb857230",
   "metadata": {},
   "outputs": [],
   "source": [
    "#question 1"
   ]
  },
  {
   "cell_type": "code",
   "execution_count": 4,
   "id": "af0ac021",
   "metadata": {},
   "outputs": [],
   "source": [
    "import scipy\n",
    "from scipy  import stats"
   ]
  },
  {
   "cell_type": "code",
   "execution_count": 5,
   "id": "a9562546",
   "metadata": {},
   "outputs": [
    {
     "data": {
      "text/plain": [
       "0.26598552904870054"
      ]
     },
     "execution_count": 5,
     "metadata": {},
     "output_type": "execute_result"
    }
   ],
   "source": [
    "'''probability cars will be not ready in 1hour'''\n",
    "1-stats.norm.cdf(50,loc=45,scale=8)"
   ]
  },
  {
   "cell_type": "code",
   "execution_count": 6,
   "id": "00cd83dd",
   "metadata": {},
   "outputs": [
    {
     "data": {
      "text/plain": [
       "0.7340144709512995"
      ]
     },
     "execution_count": 6,
     "metadata": {},
     "output_type": "execute_result"
    }
   ],
   "source": [
    "'''probability cars will be ready in 1hour'''\n",
    "stats.norm.cdf(50,loc=45,scale=8)"
   ]
  },
  {
   "cell_type": "code",
   "execution_count": null,
   "id": "75e12ccf",
   "metadata": {},
   "outputs": [],
   "source": [
    "###question 2\n",
    "#A"
   ]
  },
  {
   "cell_type": "code",
   "execution_count": 7,
   "id": "1c502934",
   "metadata": {},
   "outputs": [
    {
     "data": {
      "text/plain": [
       "0.15865525393145707"
      ]
     },
     "execution_count": 7,
     "metadata": {},
     "output_type": "execute_result"
    }
   ],
   "source": [
    "'''probability of employees older than 44'''\n",
    "1-stats.norm.cdf(44,loc=38,scale=6)"
   ]
  },
  {
   "cell_type": "code",
   "execution_count": 8,
   "id": "a7daca7c",
   "metadata": {},
   "outputs": [
    {
     "data": {
      "text/plain": [
       "0.3413447460685429"
      ]
     },
     "execution_count": 8,
     "metadata": {},
     "output_type": "execute_result"
    }
   ],
   "source": [
    "'''probability of employees are between 38 & 44'''\n",
    "df=stats.norm.cdf(44,loc=38,scale=6)-stats.norm.cdf(38,loc=38,scale=6)\n",
    "df"
   ]
  },
  {
   "cell_type": "code",
   "execution_count": null,
   "id": "4c4ed64c",
   "metadata": {},
   "outputs": [],
   "source": [
    "##question 2\n",
    "###B"
   ]
  },
  {
   "cell_type": "code",
   "execution_count": 9,
   "id": "af0caa22",
   "metadata": {},
   "outputs": [
    {
     "data": {
      "text/plain": [
       "0.09121121972586788"
      ]
     },
     "execution_count": 9,
     "metadata": {},
     "output_type": "execute_result"
    }
   ],
   "source": [
    "stats.norm.cdf(30,loc=38,scale=6)"
   ]
  },
  {
   "cell_type": "code",
   "execution_count": null,
   "id": "e5d3c47d",
   "metadata": {},
   "outputs": [],
   "source": [
    "###question 4"
   ]
  },
  {
   "cell_type": "code",
   "execution_count": 10,
   "id": "aa327075",
   "metadata": {},
   "outputs": [
    {
     "data": {
      "text/plain": [
       "'probability of getting random variable is 0.99\\nso probability of not getting between a & b=1-0.99=0.01\\narea of left and right=0.005'"
      ]
     },
     "execution_count": 10,
     "metadata": {},
     "output_type": "execute_result"
    }
   ],
   "source": [
    "'''probability of getting random variable is 0.99\n",
    "so probability of not getting between a & b=1-0.99=0.01\n",
    "area of left and right=0.005'''"
   ]
  },
  {
   "cell_type": "code",
   "execution_count": 12,
   "id": "42a7ad60",
   "metadata": {},
   "outputs": [
    {
     "name": "stdout",
     "output_type": "stream",
     "text": [
      "-2.576\n"
     ]
    }
   ],
   "source": [
    "import numpy as  np\n",
    "z_score_a=stats.norm.ppf(0.005,loc=0,scale=1)\n",
    "z_score_a=np.round(z_score_a,3)\n",
    "print(z_score_a)"
   ]
  },
  {
   "cell_type": "code",
   "execution_count": 13,
   "id": "32676d0d",
   "metadata": {},
   "outputs": [],
   "source": [
    "#z_score for b=+2.576\n"
   ]
  },
  {
   "cell_type": "code",
   "execution_count": 15,
   "id": "9902c9cc",
   "metadata": {},
   "outputs": [
    {
     "name": "stdout",
     "output_type": "stream",
     "text": [
      "48.48 151.52\n"
     ]
    }
   ],
   "source": [
    "z_score_b=2.576\n",
    "u=100\n",
    "s=20\n",
    "a=z_score_a*s+u\n",
    "b=z_score_b*s+u\n",
    "print(a,b)"
   ]
  },
  {
   "cell_type": "code",
   "execution_count": null,
   "id": "a9bd099c",
   "metadata": {},
   "outputs": [],
   "source": [
    "###question 5\n",
    "#A"
   ]
  },
  {
   "cell_type": "code",
   "execution_count": 20,
   "id": "e27aadf1",
   "metadata": {},
   "outputs": [],
   "source": [
    "#profit1=(5, 3^2)\n",
    "#profit2=(7,4^2)\n",
    "#overall profit =(12,25)\n"
   ]
  },
  {
   "cell_type": "code",
   "execution_count": 38,
   "id": "6f56e6b4",
   "metadata": {},
   "outputs": [],
   "source": [
    "mean=12\n",
    "sd=5\n",
    "mean_rs=12*45\n",
    "sd_rs=5*45"
   ]
  },
  {
   "cell_type": "code",
   "execution_count": 39,
   "id": "c89774b0",
   "metadata": {},
   "outputs": [
    {
     "name": "stdout",
     "output_type": "stream",
     "text": [
      "540\n"
     ]
    }
   ],
   "source": [
    "print(mean_rs)"
   ]
  },
  {
   "cell_type": "code",
   "execution_count": 40,
   "id": "9d58bd89",
   "metadata": {},
   "outputs": [
    {
     "name": "stdout",
     "output_type": "stream",
     "text": [
      "225\n"
     ]
    }
   ],
   "source": [
    "print(sd_rs)"
   ]
  },
  {
   "cell_type": "code",
   "execution_count": 41,
   "id": "cafdac73",
   "metadata": {},
   "outputs": [
    {
     "data": {
      "text/plain": [
       "(99.00810347848784, 980.9918965215122)"
      ]
     },
     "execution_count": 41,
     "metadata": {},
     "output_type": "execute_result"
    }
   ],
   "source": [
    "stats.norm.interval(0.95,540,225)"
   ]
  },
  {
   "cell_type": "code",
   "execution_count": null,
   "id": "c7f9fe5a",
   "metadata": {},
   "outputs": [],
   "source": [
    "##B"
   ]
  },
  {
   "cell_type": "code",
   "execution_count": 42,
   "id": "d168f00a",
   "metadata": {},
   "outputs": [
    {
     "data": {
      "text/plain": [
       "-1.6448536269514729"
      ]
     },
     "execution_count": 42,
     "metadata": {},
     "output_type": "execute_result"
    }
   ],
   "source": [
    "stats.norm.ppf(0.05,loc=0,scale=1)"
   ]
  },
  {
   "cell_type": "code",
   "execution_count": 45,
   "id": "45b03210",
   "metadata": {},
   "outputs": [
    {
     "name": "stdout",
     "output_type": "stream",
     "text": [
      "168.75\n"
     ]
    }
   ],
   "source": [
    "z=-1.65\n",
    "fifth_percentile=z*sd_rs+mean_rs\n",
    "print(fifth_percentile)"
   ]
  },
  {
   "cell_type": "code",
   "execution_count": null,
   "id": "a430b144",
   "metadata": {},
   "outputs": [],
   "source": [
    "###c"
   ]
  },
  {
   "cell_type": "code",
   "execution_count": 48,
   "id": "ff83a036",
   "metadata": {},
   "outputs": [
    {
     "data": {
      "text/plain": [
       "0.0477903522728147"
      ]
     },
     "execution_count": 48,
     "metadata": {},
     "output_type": "execute_result"
    }
   ],
   "source": [
    "##probability of division1 making loss\n",
    "(stats.norm.cdf(0,loc=5,scale=3))"
   ]
  },
  {
   "cell_type": "code",
   "execution_count": 50,
   "id": "e3f5c885",
   "metadata": {},
   "outputs": [
    {
     "data": {
      "text/plain": [
       "0.040059156863817086"
      ]
     },
     "execution_count": 50,
     "metadata": {},
     "output_type": "execute_result"
    }
   ],
   "source": [
    "###probaility of division2 making loss\n",
    "stats.norm.cdf(0,loc=7,scale=4)"
   ]
  }
 ],
 "metadata": {
  "kernelspec": {
   "display_name": "Python 3 (ipykernel)",
   "language": "python",
   "name": "python3"
  },
  "language_info": {
   "codemirror_mode": {
    "name": "ipython",
    "version": 3
   },
   "file_extension": ".py",
   "mimetype": "text/x-python",
   "name": "python",
   "nbconvert_exporter": "python",
   "pygments_lexer": "ipython3",
   "version": "3.9.13"
  }
 },
 "nbformat": 4,
 "nbformat_minor": 5
}

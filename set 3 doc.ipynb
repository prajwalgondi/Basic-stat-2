{
 "cells": [
  {
   "cell_type": "code",
   "execution_count": 2,
   "id": "314bf3e0",
   "metadata": {},
   "outputs": [],
   "source": [
    "import numpy as np\n",
    "import  scipy\n",
    "from scipy import stats"
   ]
  },
  {
   "cell_type": "code",
   "execution_count": null,
   "id": "f03cfe59",
   "metadata": {},
   "outputs": [],
   "source": [
    "'''null hypothesis:-mozilla shares are more than 5%\n",
    "alternative hypothesis:-mozilla shares are less than 5%'''"
   ]
  },
  {
   "cell_type": "code",
   "execution_count": 3,
   "id": "f015bff7",
   "metadata": {},
   "outputs": [
    {
     "data": {
      "text/plain": [
       "0.20588503245107104"
      ]
     },
     "execution_count": 3,
     "metadata": {},
     "output_type": "execute_result"
    }
   ],
   "source": [
    "z_score=(0.046-0.05)/(np.sqrt((0.05*(1-0.05))/2000))\n",
    "p_value=1-stats.norm.cdf(abs(z_score))\n",
    "p_value"
   ]
  },
  {
   "cell_type": "code",
   "execution_count": null,
   "id": "1df57e00",
   "metadata": {},
   "outputs": [],
   "source": []
  }
 ],
 "metadata": {
  "kernelspec": {
   "display_name": "Python 3 (ipykernel)",
   "language": "python",
   "name": "python3"
  },
  "language_info": {
   "codemirror_mode": {
    "name": "ipython",
    "version": 3
   },
   "file_extension": ".py",
   "mimetype": "text/x-python",
   "name": "python",
   "nbconvert_exporter": "python",
   "pygments_lexer": "ipython3",
   "version": "3.9.13"
  }
 },
 "nbformat": 4,
 "nbformat_minor": 5
}

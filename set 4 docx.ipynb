{
 "cells": [
  {
   "cell_type": "code",
   "execution_count": null,
   "id": "f5bb43ce",
   "metadata": {},
   "outputs": [],
   "source": [
    "###question 3"
   ]
  },
  {
   "cell_type": "code",
   "execution_count": 8,
   "id": "ff7abd20",
   "metadata": {},
   "outputs": [],
   "source": [
    "import numpy as np\n",
    "from scipy import stats"
   ]
  },
  {
   "cell_type": "code",
   "execution_count": 3,
   "id": "85829214",
   "metadata": {},
   "outputs": [],
   "source": [
    "pop_mean=50\n",
    "pop_sd=40\n",
    "n=100\n",
    "##z score x=45 and 55\n",
    "z45=(45-pop_mean)/(pop_sd/np.sqrt(n))\n",
    "z55=(55-pop_mean)/(pop_sd/np.sqrt(n))\n"
   ]
  },
  {
   "cell_type": "code",
   "execution_count": 4,
   "id": "fd2ce1f6",
   "metadata": {},
   "outputs": [
    {
     "name": "stdout",
     "output_type": "stream",
     "text": [
      "-1.25\n"
     ]
    }
   ],
   "source": [
    "print(z45)"
   ]
  },
  {
   "cell_type": "code",
   "execution_count": 5,
   "id": "e97879fb",
   "metadata": {},
   "outputs": [
    {
     "name": "stdout",
     "output_type": "stream",
     "text": [
      "1.25\n"
     ]
    }
   ],
   "source": [
    "print(z55)"
   ]
  },
  {
   "cell_type": "code",
   "execution_count": null,
   "id": "74283aff",
   "metadata": {},
   "outputs": [],
   "source": [
    "##for no investigation"
   ]
  },
  {
   "cell_type": "code",
   "execution_count": 9,
   "id": "5ea4fc89",
   "metadata": {},
   "outputs": [],
   "source": [
    "prob1=stats.norm.cdf(1.25)-stats.norm.cdf(-1.25)\n",
    "###for investigation\n",
    "prob2=1-prob1"
   ]
  },
  {
   "cell_type": "code",
   "execution_count": 12,
   "id": "d435a69f",
   "metadata": {},
   "outputs": [
    {
     "name": "stdout",
     "output_type": "stream",
     "text": [
      "0.2112995473337107 3\n"
     ]
    }
   ],
   "source": [
    "print(prob2)"
   ]
  }
 ],
 "metadata": {
  "kernelspec": {
   "display_name": "Python 3 (ipykernel)",
   "language": "python",
   "name": "python3"
  },
  "language_info": {
   "codemirror_mode": {
    "name": "ipython",
    "version": 3
   },
   "file_extension": ".py",
   "mimetype": "text/x-python",
   "name": "python",
   "nbconvert_exporter": "python",
   "pygments_lexer": "ipython3",
   "version": "3.9.13"
  }
 },
 "nbformat": 4,
 "nbformat_minor": 5
}
